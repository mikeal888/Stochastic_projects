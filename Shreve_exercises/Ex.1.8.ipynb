{
 "cells": [
  {
   "cell_type": "markdown",
   "id": "a1524b5e-4527-418f-a2b0-68485d68ae2b",
   "metadata": {},
   "source": [
    "# Exercise 1.8 (Asian Option)\n",
    "\n",
    "Consider the three-period model of Example 1.2.1, with $S_0 = 4$, $u = 2$, $d = 1/2$ and take $t$ he interest rate $r = 1/4 $, so that $\\tilde{p} = \\tilde{q} = 1/2$. For $n = 0, 1, 2, 3$ define $Y_{n} = \\sum_{n=0}^{k}S_{n}$ to be the sum of the stock prices between times zero and $n$. Consider an Asian call option that expires at time three and has strike $K = 4$ (i.e. , whose payoff at time three is $(Y_{3}/4 - 4)^{+}$. This is like a European call, except the payoff of the option is based on the average stock price rather than the final stock price. Let $v_{n} (s, y)$ denote the price of this option at time $n$ if $S_n = s$ and $Y_n = y$. In particular, $v_{3} (s, y) = (y/4 - 4)^{+}$ .\n",
    "\n",
    "Implement algorithm that computes value of put options at time step t, and number of shares in replicating portfolio."
   ]
  },
  {
   "cell_type": "code",
   "execution_count": null,
   "id": "2820f0ba-1784-4c59-8ee5-c57d1fde9f8d",
   "metadata": {},
   "outputs": [],
   "source": [
    "import numpy as np\n",
    "import matplotlib.pyplot as plt\n",
    "import itertools\n",
    "\n",
    "# import jtplot module in notebook\n",
    "from jupyterthemes import jtplot\n",
    "\n",
    "# choose which theme to inherit plotting style from\n",
    "# onedork | grade3 | oceans16 | chesterish | monokai | solarizedl | solarizedd\n",
    "jtplot.style(theme='oceans16')\n",
    "\n",
    "def sn(n, params):\n",
    "    \n",
    "    # Function that returns list of all stock values at Sn\n",
    "    \n",
    "    return np.array([params['S0'] * (params['u']**(n-k)) * (params['d']**k) for k in range(n+1) ])\n",
    "\n",
    "def Sn(n, params):\n",
    "    \n",
    "    # Compute stock price at n for all combinations\n",
    "    \n",
    "    si = [params['S0']]\n",
    "    for i in range(n):\n",
    "        si = np.kron(si, [params['u'], params['d']])\n",
    "\n",
    "    return si\n",
    "\n",
    "def Asian_Yn(n, params):\n",
    "    \n",
    "    # Compute all yn outcomes from Asian option\n",
    "    \n",
    "    yni = [params['S0']]\n",
    "    \n",
    "    for i in range(n):\n",
    "        \n",
    "        yni = np.kron(yni, [1,1]) + Sn(i+1, params)\n",
    "        \n",
    "    return yni\n",
    "\n",
    "def Asian_VN(n, params):\n",
    "    \n",
    "    # Compute payout at time final time N\n",
    "    \n",
    "    return(Asian_Yn(n, params)/4 - params['K']).clip(min=0)\n",
    "\n",
    "def Asian_Vn(n, params):\n",
    "    \n",
    "    # Compute price of option at time n < N is the max\n",
    "    \n",
    "    Vns = Asian_VN(params['N'], params)\n",
    "    \n",
    "    for i in range(params['N']-n):\n",
    "        \n",
    "        Vns = np.reshape(Vns, (int(len(Vns)/2), 2))@[params['p'], params['q']]/(1 + params['r'])\n",
    "    \n",
    "    return Vns\n",
    "\n",
    "def Asian_deltan(n, params):\n",
    "    \n",
    "    # For each path way compute share holdings \n",
    "    \n",
    "    vi =  Asian_Vn(n+1, params)\n",
    "    si =  Sn(n+1, params)\n",
    "    \n",
    "    for i in range(N-n):\n",
    "        \n",
    "        dv = np.reshape(vi, (int(len(vi)/2), 2))@[1, -1]\n",
    "        ds = np.reshape(si, (int(len(si)/2), 2))@[1, -1]\n",
    "    \n",
    "    return dv/ds"
   ]
  },
  {
   "cell_type": "code",
   "execution_count": 2,
   "id": "6c8e78fb-bcbb-4ba1-ad7e-892064b41696",
   "metadata": {},
   "outputs": [],
   "source": [
    "# Initial parameters\n",
    "S0 = 4\n",
    "r = 1/4\n",
    "p = 2/3\n",
    "q = 1 - p\n",
    "u = 2\n",
    "d = 1/2\n",
    "K = 4\n",
    "X0 = 0\n",
    "N = 3\n",
    "\n",
    "params = {'S0': S0, \n",
    "          'r': r,\n",
    "          'p': p,\n",
    "          'q': q,\n",
    "          'u': u,\n",
    "          'd': d,\n",
    "          'K': K,\n",
    "          'X0': X0,\n",
    "         'N': N}"
   ]
  },
  {
   "cell_type": "code",
   "execution_count": 1047,
   "id": "f0034f66-f436-4216-9b95-bb9a93552484",
   "metadata": {},
   "outputs": [
    {
     "name": "stdout",
     "output_type": "stream",
     "text": [
      "t = 0 S_t = [4]\n",
      "t = 1 S_t = [8. 2.]\n",
      "t = 2 S_t = [16.  4.  4.  1.]\n",
      "t = 3 S_t = [32.   8.   8.   2.   8.   2.   2.   0.5]\n"
     ]
    }
   ],
   "source": [
    "# print of put options at each time step options\n",
    "for i in range(4):\n",
    "    \n",
    "    print(\"t =\",i, \"S_t =\", Sn(i,params))"
   ]
  },
  {
   "cell_type": "code",
   "execution_count": null,
   "id": "97e9a9c3-9b2a-4aca-95d0-d4a9cdfa9177",
   "metadata": {},
   "outputs": [],
   "source": []
  },
  {
   "cell_type": "code",
   "execution_count": 1048,
   "id": "b09b0a71-af64-4e43-998e-6480c9e2d7ef",
   "metadata": {},
   "outputs": [
    {
     "name": "stdout",
     "output_type": "stream",
     "text": [
      "t = 0 v_t = [2.25659259]\n",
      "t = 1 v_t = [4.16       0.14222222]\n",
      "t = 2 v_t = [7.2        1.2        0.26666667 0.        ]\n"
     ]
    }
   ],
   "source": [
    "# print of put options at each time step options\n",
    "for i in range(3):\n",
    "    \n",
    "    print(\"t =\",i, \"v_t =\", Asian_Vn(i,params))"
   ]
  },
  {
   "cell_type": "code",
   "execution_count": 1049,
   "id": "e484a142-1263-42c6-acf6-db184a70a8e0",
   "metadata": {},
   "outputs": [
    {
     "name": "stdout",
     "output_type": "stream",
     "text": [
      "t = 0 delta_t = [0.66962963]\n",
      "t = 1 delta_t = [0.5        0.08888889]\n",
      "t = 2 delta_t = [0.25       0.25       0.08333333 0.        ]\n"
     ]
    }
   ],
   "source": [
    "# print of number of shares in replicating portfollio\n",
    "for i in range(3):\n",
    "    \n",
    "    print(\"t =\",i, \"delta_t =\", Asian_deltan(i,params))"
   ]
  },
  {
   "cell_type": "code",
   "execution_count": 1050,
   "id": "f2530132-2ab9-46b7-a825-bf05e7ec07ae",
   "metadata": {},
   "outputs": [
    {
     "data": {
      "text/plain": [
       "1.5"
      ]
     },
     "execution_count": 1050,
     "metadata": {},
     "output_type": "execute_result"
    }
   ],
   "source": [
    "u*p + d*q"
   ]
  },
  {
   "cell_type": "code",
   "execution_count": 12,
   "id": "7ae1a45b-9564-49b6-9010-6975fcede4a2",
   "metadata": {},
   "outputs": [
    {
     "data": {
      "image/png": "[encoded data removed]",
      "text/plain": [
       "<Figure size 460.8x403.2 with 1 Axes>"
      ]
     },
     "metadata": {},
     "output_type": "display_data"
    }
   ],
   "source": []
  },
  {
   "cell_type": "code",
   "execution_count": null,
   "id": "ec77f39a",
   "metadata": {},
   "outputs": [],
   "source": []
  }
 ],
 "metadata": {
  "kernelspec": {
   "display_name": "Python 3 (ipykernel)",
   "language": "python",
   "name": "python3"
  },
  "language_info": {
   "codemirror_mode": {
    "name": "ipython",
    "version": 3
   },
   "file_extension": ".py",
   "mimetype": "text/x-python",
   "name": "python",
   "nbconvert_exporter": "python",
   "pygments_lexer": "ipython3",
   "version": "3.10.9"
  }
 },
 "nbformat": 4,
 "nbformat_minor": 5
}
