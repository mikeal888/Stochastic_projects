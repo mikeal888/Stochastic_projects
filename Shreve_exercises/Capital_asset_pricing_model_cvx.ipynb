{
 "cells": [
  {
   "cell_type": "markdown",
   "id": "2aa46f8e",
   "metadata": {},
   "source": [
    "# Use CVXPy to solve capital asset pricing model\n",
    "\n",
    "Here we will seek to solve the capital asset pricing model using CVXPY. To formulate the problem, we will consider Problem 3.3.1 from Shreve which states:\n",
    "\n",
    "Given an initial wealth $X_{0}$, find an adapted porfolio process $\\Delta_{0}, \\Delta_{1}...\\Delta_{N-1}$ that maximises the utility function\n",
    "\\begin{equation}\n",
    "\\mathbb{E} U(X_{N})\\,,\n",
    "\\end{equation}\n",
    "subject to the wealth equation\n",
    "\\begin{equation}\n",
    "X_{n+1} = \\Delta_{n}S_{n+1} + (1+r)(X_{n} - \\Delta_{n}S_{n})\n",
    "\\end{equation}\n",
    "where $\\mathbb{E}$ is the expectation take with respect to the real underlying distribution of the market, and $U(X_{N})$ is the utility function of the final wealth.\n",
    "\n",
    "As is shown in the text, this problem can be recast as a simpler problem with relation to the state prices of the asses such that we have the following recasting:\n",
    "\n",
    "Find a vector $\\vec{x}$ that maximises $\\sum_{n} p_{n}U(x_{n})$ subject to $\\sum_{n} p_{n} \\zeta_{n} x_{n} = X_{0}$, where $\\zeta_{n}$ is the state price given by \n",
    "\\begin{equation}\n",
    "    \\zeta_{n} = \\frac{Z(\\omega_{1}\\omega_{2}...\\omega_{N})}{(1+r)^{N}}\\,,\n",
    "\\end{equation}\n",
    "where $Z = \\tilde{\\mathbb{P}}/{\\mathbb{P}}$ is the Randon-Nikdoynm derivative of the risk neutral probabilty with respect to the actual underlying probability distribution.\n",
    "\n",
    "Given the symmetries of the Binomial asset pricing model, we can improve efficiency of the calculation by exploiting these symmetries.\n",
    "This is that the probabilities of different permutations are equal e.g $P(HT) = P(TH)$, which also extends to the risk neutral probabilities, and the the state prices $\\zeta$\n"
   ]
  },
  {
   "cell_type": "code",
   "execution_count": 24,
   "id": "f172716e",
   "metadata": {},
   "outputs": [],
   "source": [
    "import cvxpy as cp\n",
    "import numpy as np\n",
    "from scipy.special import binom\n",
    "\n",
    "# Here we will use the functionality of the binomial asset tree\n",
    "from Binomial_asset_tree import BinomialTreeEuropean, CapitalAssetPricing"
   ]
  },
  {
   "cell_type": "code",
   "execution_count": 25,
   "id": "8a69e984",
   "metadata": {},
   "outputs": [],
   "source": [
    "def calculate_Sn(S0, u, n):\n",
    "    # Compute potential price outcomes\n",
    "    return S0 * (1/u) ** (np.arange(n, -1, -1)) * u ** (np.arange(0, n + 1, 1))"
   ]
  },
  {
   "cell_type": "code",
   "execution_count": 26,
   "id": "3b2001de",
   "metadata": {},
   "outputs": [],
   "source": [
    "n = 2   # number of periods\n",
    "u = 2   # up factor\n",
    "r = 0.25    # risk free rate\n",
    "\n",
    "\n",
    "# define the risk neutral probabilities\n",
    "risk_p = np.array([1/4, 2/4, 1/4])\n",
    "\n",
    "# define actual probabilities\n",
    "p = np.array([1/9, 4/9, 4/9])\n",
    "\n",
    "# Define the Randon Nikodym derivative\n",
    "Z = risk_p/p\n",
    "zeta = Z/(1+r)**2\n",
    "pn_zeta = p*zeta\n",
    "X0 = 4\n",
    "Sn = calculate_Sn(X0, u, n-1)\n",
    "\n",
    "params = {'r': r,\n",
    "         'u': u,\n",
    "         'd': 1/u,\n",
    "         'X0': X0,\n",
    "         'p': p,\n",
    "         'n': n}\n",
    "\n",
    "model = CapitalAssetPricing(params)\n",
    "\n",
    "model.solve()"
   ]
  },
  {
   "cell_type": "code",
   "execution_count": 28,
   "id": "e4f3efc9",
   "metadata": {},
   "outputs": [
    {
     "name": "stdout",
     "output_type": "stream",
     "text": [
      "[ 2.77777912  5.55555311 11.11111464]\n"
     ]
    }
   ],
   "source": [
    "print(model.x.value)"
   ]
  },
  {
   "cell_type": "code",
   "execution_count": 8,
   "id": "4f2c936f",
   "metadata": {},
   "outputs": [
    {
     "data": {
      "text/plain": [
       "1.9458474871352769"
      ]
     },
     "execution_count": 8,
     "metadata": {},
     "output_type": "execute_result"
    }
   ],
   "source": [
    "x = cp.Variable(n+1)\n",
    "prob = cp.Problem(cp.Maximize(p@cp.log(x)), [pn_zeta@x==X0])\n",
    "prob.solve()"
   ]
  },
  {
   "cell_type": "code",
   "execution_count": 9,
   "id": "dc9418fe",
   "metadata": {},
   "outputs": [
    {
     "data": {
      "text/plain": [
       "array([ 2.77777912,  5.55555311, 11.11111464])"
      ]
     },
     "execution_count": 9,
     "metadata": {},
     "output_type": "execute_result"
    }
   ],
   "source": [
    "x.value"
   ]
  },
  {
   "cell_type": "code",
   "execution_count": 10,
   "id": "810fbde4",
   "metadata": {},
   "outputs": [
    {
     "name": "stdout",
     "output_type": "stream",
     "text": [
      "[0.25 0.5  0.25]\n",
      "[0.25 0.5  0.25]\n"
     ]
    }
   ],
   "source": [
    "# Define some system parameters for the model\n",
    "u = 2\n",
    "p = 0.5\n",
    "\n",
    "N = 2\n",
    "n = 2\n",
    "K = 7\n",
    "S0 = 4\n",
    "r = 0.25\n",
    "\n",
    "risk_p = (1 + r - 1/u)/(u-1/u)\n",
    "\n",
    "# Compute real probs\n",
    "real_probs = (1-p) ** (np.arange(n, -1, -1)) * (p) ** (np.arange(0, n + 1, 1)) *  binom(n, np.arange(n+1))\n",
    "# real_probs = np.array([1/9, 4/9, 4/9])\n",
    "print(real_probs)\n",
    "\n",
    "risk_probs = (risk_p) ** (np.arange(n, -1, -1)) * (1-risk_p) ** (np.arange(0, n + 1, 1)) *  binom(n, np.arange(n+1))\n",
    "print(risk_probs)\n",
    "Z = risk_probs/real_probs\n",
    "\n",
    "zeta = Z/(1+r)**(2)\n",
    "pn_zeta = real_probs*zeta\n",
    "Sn = calculate_Sn(S0, u, n)"
   ]
  },
  {
   "cell_type": "code",
   "execution_count": 207,
   "id": "d6ea55d0",
   "metadata": {},
   "outputs": [
    {
     "data": {
      "text/plain": [
       "1.8325814628517012"
      ]
     },
     "execution_count": 207,
     "metadata": {},
     "output_type": "execute_result"
    }
   ],
   "source": [
    "x = cp.Variable(n+1)\n",
    "prob = cp.Problem(cp.Maximize(real_probs@cp.log(x)), [pn_zeta@x==X0])\n",
    "prob.solve()"
   ]
  },
  {
   "cell_type": "code",
   "execution_count": 208,
   "id": "43e9e9cb",
   "metadata": {},
   "outputs": [
    {
     "data": {
      "text/plain": [
       "array([6.25001158, 6.24998841, 6.25001158])"
      ]
     },
     "execution_count": 208,
     "metadata": {},
     "output_type": "execute_result"
    }
   ],
   "source": [
    "x.value"
   ]
  },
  {
   "cell_type": "code",
   "execution_count": 157,
   "id": "3e267d30",
   "metadata": {},
   "outputs": [
    {
     "data": {
      "text/plain": [
       "array([0.46065971, 3.68527804, 7.37055299])"
      ]
     },
     "execution_count": 157,
     "metadata": {},
     "output_type": "execute_result"
    }
   ],
   "source": []
  },
  {
   "cell_type": "markdown",
   "id": "324e0313",
   "metadata": {},
   "source": [
    "# 2/"
   ]
  },
  {
   "cell_type": "code",
   "execution_count": 15,
   "id": "b3ba151a",
   "metadata": {},
   "outputs": [
    {
     "ename": "ValueError",
     "evalue": "invalid number of arguments",
     "output_type": "error",
     "traceback": [
      "\u001b[0;31m---------------------------------------------------------------------------\u001b[0m",
      "\u001b[0;31mValueError\u001b[0m                                Traceback (most recent call last)",
      "\u001b[0;32m/var/folders/k6/79gt8yds1l3gsjyykhx8fr4r0000gn/T/ipykernel_77799/3386542397.py\u001b[0m in \u001b[0;36m<module>\u001b[0;34m\u001b[0m\n\u001b[0;32m----> 1\u001b[0;31m \u001b[0mbinom\u001b[0m\u001b[0;34m(\u001b[0m\u001b[0mn\u001b[0m\u001b[0;34m)\u001b[0m\u001b[0;34m\u001b[0m\u001b[0;34m\u001b[0m\u001b[0m\n\u001b[0m",
      "\u001b[0;31mValueError\u001b[0m: invalid number of arguments"
     ]
    }
   ],
   "source": [
    "binom(n, np.arange9)"
   ]
  },
  {
   "cell_type": "code",
   "execution_count": 1,
   "id": "a2b4106a",
   "metadata": {},
   "outputs": [
    {
     "ename": "NameError",
     "evalue": "name 'np' is not defined",
     "output_type": "error",
     "traceback": [
      "\u001b[0;31m---------------------------------------------------------------------------\u001b[0m",
      "\u001b[0;31mNameError\u001b[0m                                 Traceback (most recent call last)",
      "Cell \u001b[0;32mIn[1], line 2\u001b[0m\n\u001b[1;32m      1\u001b[0m \u001b[39m# Create numpy array between 0, and 10, with 100 points\u001b[39;00m\n\u001b[0;32m----> 2\u001b[0m x \u001b[39m=\u001b[39m np\u001b[39m.\u001b[39mlinspace(\u001b[39m0\u001b[39m, \u001b[39m10\u001b[39m, \u001b[39m100\u001b[39m)\n\u001b[1;32m      4\u001b[0m y \u001b[39m=\u001b[39m np\u001b[39m.\u001b[39mabs(x)\n\u001b[1;32m      6\u001b[0m plt\u001b[39m.\u001b[39mplot(x, y)\n",
      "\u001b[0;31mNameError\u001b[0m: name 'np' is not defined"
     ]
    }
   ],
   "source": []
  },
  {
   "cell_type": "code",
   "execution_count": 21,
   "id": "12a3d455",
   "metadata": {},
   "outputs": [],
   "source": []
  },
  {
   "cell_type": "code",
   "execution_count": 22,
   "id": "0c8bb593",
   "metadata": {},
   "outputs": [
    {
     "data": {
      "text/plain": [
       "array([5.        , 5.00480653, 4.99933432, 4.97751727, 4.96158188,\n",
       "       4.93502256, 4.94399369, 4.93412762, 4.93768569, 4.95132794,\n",
       "       4.94668564, 4.9421526 , 4.91102246, 4.90938038, 4.9209154 ,\n",
       "       4.89309448, 4.9158174 , 4.92509224, 4.90407992, 4.86176824,\n",
       "       4.86948319, 4.87668603, 4.88102422, 4.87834498, 4.89132324,\n",
       "       4.88483605, 4.86190894, 4.88612766, 4.86509619, 4.8628696 ,\n",
       "       4.85596139, 4.86908054, 4.89915867, 4.85151166, 4.80962349,\n",
       "       4.80642829, 4.78961517, 4.81727617, 4.79063766, 4.77056379,\n",
       "       4.8126751 , 4.83145198, 4.8281015 , 4.81394678, 4.82136431,\n",
       "       4.81383924, 4.8120316 , 4.79408118, 4.82188087, 4.82283683,\n",
       "       4.84300547, 4.85672859, 4.82309675, 4.81872302, 4.79577496,\n",
       "       4.7873958 , 4.78013145, 4.75795555, 4.71634928, 4.70541767,\n",
       "       4.72938545, 4.71742501, 4.72383335, 4.76618982, 4.76931404,\n",
       "       4.75824748, 4.78872766, 4.77220869, 4.76456665, 4.72929325,\n",
       "       4.75972638, 4.77420492, 4.76166894, 4.70354481, 4.66720547,\n",
       "       4.66648684, 4.64619173, 4.63366486, 4.67158647, 4.67476893,\n",
       "       4.6613678 , 4.63162404, 4.59155657, 4.5766765 , 4.59221681,\n",
       "       4.60994188, 4.59859383, 4.58968364, 4.60739511, 4.6438367 ,\n",
       "       4.6529289 , 4.62255958, 4.63157192, 4.60868536, 4.57650139,\n",
       "       4.5750276 , 4.56618714, 4.58875188, 4.58431007, 4.57997659,\n",
       "       4.58982537])"
      ]
     },
     "execution_count": 22,
     "metadata": {},
     "output_type": "execute_result"
    }
   ],
   "source": []
  },
  {
   "cell_type": "code",
   "execution_count": null,
   "id": "d4c1d6ea",
   "metadata": {},
   "outputs": [],
   "source": []
  }
 ],
 "metadata": {
  "kernelspec": {
   "display_name": "base",
   "language": "python",
   "name": "python3"
  },
  "language_info": {
   "codemirror_mode": {
    "name": "ipython",
    "version": 3
   },
   "file_extension": ".py",
   "mimetype": "text/x-python",
   "name": "python",
   "nbconvert_exporter": "python",
   "pygments_lexer": "ipython3",
   "version": "3.10.9"
  },
  "vscode": {
   "interpreter": {
    "hash": "033e9a9ec91bcc4e13847a3a49460902be0d27ef42562e236d63618c6aca313e"
   }
  }
 },
 "nbformat": 4,
 "nbformat_minor": 5
}
