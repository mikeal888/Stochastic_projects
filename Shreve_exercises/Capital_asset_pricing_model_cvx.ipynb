{
 "cells": [
  {
   "cell_type": "markdown",
   "id": "2aa46f8e",
   "metadata": {},
   "source": [
    "# Use CVXPy to solve capital asset pricing model\n",
    "\n",
    "Here we will seek to solve the capital asset pricing model using CVXPY. To formulate the problem, we will consider Problem 3.3.1 from Shreve which states:\n",
    "\n",
    "Given an initial wealth $X_{0}$, find an adapted porfolio process $\\Delta_{0}, \\Delta_{1}...\\Delta_{N-1}$ that maximises the utility function\n",
    "\\begin{equation}\n",
    "\\mathbb{E} U(X_{N})\\,,\n",
    "\\end{equation}\n",
    "subject to the wealth equation\n",
    "\\begin{equation}\n",
    "X_{n+1} = \\Delta_{n}S_{n+1} + (1+r)(X_{n} - \\Delta_{n}S_{n})\n",
    "\\end{equation}\n",
    "where $\\mathbb{E}$ is the expectation take with respect to the real underlying distribution of the market, and $U(X_{N})$ is the utility function of the final wealth.\n",
    "\n",
    "As is shown in the text, this problem can be recast as a simpler problem with relation to the state prices of the asses such that we have the following recasting:\n",
    "\n",
    "Find a vector $\\vec{x}$ that maximises $\\sum_{n} p_{n}U(x_{n})$ subject to $\\sum_{n} p_{n} \\zeta_{n} x_{n} = X_{0}$, where $\\zeta_{n}$ is the state price given by \n",
    "\\begin{equation}\n",
    "    \\zeta_{n} = \\frac{Z(\\omega_{1}\\omega_{2}...\\omega_{N})}{(1+r)^{N}}\\,,\n",
    "\\end{equation}\n",
    "where $Z = \\tilde{\\mathbb{P}}/{\\mathbb{P}}$ is the Randon-Nikdoynm derivative of the risk neutral probabilty with respect to the actual underlying probability distribution.\n",
    "\n"
   ]
  },
  {
   "cell_type": "code",
   "execution_count": 1,
   "id": "f172716e",
   "metadata": {},
   "outputs": [],
   "source": [
    "import cvxpy as cp\n",
    "import numpy as np\n",
    "\n",
    "# Here we will use the functionality of the binomial asset tree\n",
    "from Binomial_asset_tree import binomial_tree_european"
   ]
  },
  {
   "cell_type": "code",
   "execution_count": 2,
   "id": "8a69e984",
   "metadata": {},
   "outputs": [],
   "source": [
    "def calculate_Sn(S0, u, n):\n",
    "    # Compute potential price outcomes\n",
    "    return S0 * (1/u) ** (np.arange(n, -1, -1)) * u ** (np.arange(0, n + 1, 1))"
   ]
  },
  {
   "cell_type": "code",
   "execution_count": 4,
   "id": "3b2001de",
   "metadata": {},
   "outputs": [],
   "source": [
    "n = 3\n",
    "u = 2\n",
    "r = 0.25\n",
    "risk_p = np.array([1/4, 1/2, 1/4])\n",
    "p = np.array([4/9, 4/9, 1/9])\n",
    "Z = risk_p/p\n",
    "zeta = Z/(1+r)**2\n",
    "pn_zeta = p*zeta\n",
    "X0 = 4\n",
    "Sn = calculate_Sn(X0, u, n-1)"
   ]
  },
  {
   "cell_type": "code",
   "execution_count": 7,
   "id": "4f2c936f",
   "metadata": {},
   "outputs": [
    {
     "data": {
      "text/plain": [
       "1.9458474871352853"
      ]
     },
     "execution_count": 7,
     "metadata": {},
     "output_type": "execute_result"
    }
   ],
   "source": [
    "x = cp.Variable(n)\n",
    "prob = cp.Problem(cp.Maximize(p@cp.log(x)), [pn_zeta@x==X0])\n",
    "prob.solve()"
   ]
  },
  {
   "cell_type": "code",
   "execution_count": 10,
   "id": "dc9418fe",
   "metadata": {},
   "outputs": [
    {
     "data": {
      "text/plain": [
       "array([-1.85185384, -0.23148117])"
      ]
     },
     "execution_count": 10,
     "metadata": {},
     "output_type": "execute_result"
    }
   ],
   "source": [
    "np.diff(x.value)/np.diff(Sn)"
   ]
  },
  {
   "cell_type": "code",
   "execution_count": 60,
   "id": "810fbde4",
   "metadata": {},
   "outputs": [],
   "source": []
  },
  {
   "cell_type": "code",
   "execution_count": 27,
   "id": "43e9e9cb",
   "metadata": {},
   "outputs": [
    {
     "data": {
      "text/plain": [
       "5.555555555555555"
      ]
     },
     "execution_count": 27,
     "metadata": {},
     "output_type": "execute_result"
    }
   ],
   "source": [
    "50/9"
   ]
  },
  {
   "cell_type": "code",
   "execution_count": 28,
   "id": "3e267d30",
   "metadata": {},
   "outputs": [
    {
     "data": {
      "text/plain": [
       "2.7777777777777777"
      ]
     },
     "execution_count": 28,
     "metadata": {},
     "output_type": "execute_result"
    }
   ],
   "source": [
    "25/9"
   ]
  },
  {
   "cell_type": "code",
   "execution_count": null,
   "id": "5ffdc294",
   "metadata": {},
   "outputs": [],
   "source": []
  }
 ],
 "metadata": {
  "kernelspec": {
   "display_name": "Python 3 (ipykernel)",
   "language": "python",
   "name": "python3"
  },
  "language_info": {
   "codemirror_mode": {
    "name": "ipython",
    "version": 3
   },
   "file_extension": ".py",
   "mimetype": "text/x-python",
   "name": "python",
   "nbconvert_exporter": "python",
   "pygments_lexer": "ipython3",
   "version": "3.9.7"
  }
 },
 "nbformat": 4,
 "nbformat_minor": 5
}
