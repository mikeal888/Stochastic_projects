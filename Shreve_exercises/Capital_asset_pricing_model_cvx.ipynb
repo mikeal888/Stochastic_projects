{
 "cells": [
  {
   "cell_type": "markdown",
   "id": "2aa46f8e",
   "metadata": {},
   "source": [
    "# Use CVXPy to solve capital asset pricing model\n",
    "\n",
    "Here we will seek to solve the capital asset pricing model using CVXPY. To formulate the problem, we will consider Problem 3.3.1 from Shreve which states:\n",
    "\n",
    "Given an initial wealth $X_{0}$, find an adapted porfolio process $\\Delta_{0}, \\Delta_{1}...\\Delta_{N-1}$ that maximises the utility function\n",
    "\\begin{equation}\n",
    "\\mathbb{E} U(X_{N})\\,,\n",
    "\\end{equation}\n",
    "subject to the wealth equation\n",
    "\\begin{equation}\n",
    "X_{n+1} = \\Delta_{n}S_{n+1} + (1+r)(X_{n} - \\Delta_{n}S_{n})\n",
    "\\end{equation}\n",
    "where $\\mathbb{E}$ is the expectation take with respect to the real underlying distribution of the market, and $U(X_{N})$ is the utility function of the final wealth.\n",
    "\n",
    "As is shown in the text, this problem can be recast as a simpler problem with relation to the state prices of the asses such that we have the following recasting:\n",
    "\n",
    "Find a vector $\\vec{x}$ that maximises $\\sum_{n} p_{n}U(x_{n})$ subject to $\\sum_{n} p_{n} \\zeta_{n} x_{n} = X_{0}$, where $\\zeta_{n}$ is the state price given by \n",
    "\\begin{equation}\n",
    "    \\zeta_{n} = \\frac{Z(\\omega_{1}\\omega_{2}...\\omega_{N})}{(1+r)^{N}}\\,,\n",
    "\\end{equation}\n",
    "where $Z = \\tilde{\\mathbb{P}}/{\\mathbb{P}}$ is the Randon-Nikdoynm derivative of the risk neutral probabilty with respect to the actual underlying probability distribution.\n",
    "\n",
    "Given the symmetries of the Binomial asset pricing model, we can improve efficiency of the calculation by exploiting these symmetries.\n",
    "This is that the probabilities of different permutations are equal e.g $P(HT) = P(TH)$, which also extends to the risk neutral probabilities, and the the state prices $\\zeta$\n"
   ]
  },
  {
   "cell_type": "code",
   "execution_count": 1,
   "id": "f172716e",
   "metadata": {},
   "outputs": [],
   "source": [
    "import cvxpy as cp\n",
    "import numpy as np\n",
    "from scipy.special import binom\n",
    "\n",
    "# Here we will use the functionality of the binomial asset tree\n",
    "from Binomial_asset_tree import binomial_tree_european, Capital_asset_pricing"
   ]
  },
  {
   "cell_type": "code",
   "execution_count": 2,
   "id": "8a69e984",
   "metadata": {},
   "outputs": [],
   "source": [
    "def calculate_Sn(S0, u, n):\n",
    "    # Compute potential price outcomes\n",
    "    return S0 * (1/u) ** (np.arange(n, -1, -1)) * u ** (np.arange(0, n + 1, 1))"
   ]
  },
  {
   "cell_type": "code",
   "execution_count": 5,
   "id": "3b2001de",
   "metadata": {},
   "outputs": [],
   "source": [
    "n = 2\n",
    "u = 2\n",
    "r = 0.25\n",
    "\n",
    "risk_p = np.array([1/4, 2/4, 1/4])\n",
    "p = np.array([1/9, 4/9, 4/9])\n",
    "Z = risk_p/p\n",
    "zeta = Z/(1+r)**2\n",
    "pn_zeta = p*zeta\n",
    "X0 = 4\n",
    "Sn = calculate_Sn(X0, u, n-1)\n",
    "\n",
    "params = {'r': r,\n",
    "         'u': u,\n",
    "         'd': 1/u,\n",
    "         'X0': X0,\n",
    "         'p': p,\n",
    "         'n': n}\n",
    "\n",
    "model = Capital_asset_pricing(params)\n",
    "\n",
    "model.solve()\n",
    "# print(risk_p)\n",
    "# print(p)"
   ]
  },
  {
   "cell_type": "code",
   "execution_count": 12,
   "id": "e4f3efc9",
   "metadata": {},
   "outputs": [
    {
     "data": {
      "text/plain": [
       "array([1.38888888, 5.55555556, 5.55555556])"
      ]
     },
     "execution_count": 12,
     "metadata": {},
     "output_type": "execute_result"
    }
   ],
   "source": [
    "model.x.value"
   ]
  },
  {
   "cell_type": "code",
   "execution_count": 13,
   "id": "4f2c936f",
   "metadata": {},
   "outputs": [
    {
     "data": {
      "text/plain": [
       "1.9458474871352984"
      ]
     },
     "execution_count": 13,
     "metadata": {},
     "output_type": "execute_result"
    }
   ],
   "source": [
    "x = cp.Variable(n+1)\n",
    "prob = cp.Problem(cp.Maximize(p@cp.log(x)), [pn_zeta@x==X0])\n",
    "prob.solve()"
   ]
  },
  {
   "cell_type": "code",
   "execution_count": 14,
   "id": "dc9418fe",
   "metadata": {},
   "outputs": [
    {
     "data": {
      "text/plain": [
       "array([ 2.77777912,  5.55555311, 11.11111464])"
      ]
     },
     "execution_count": 14,
     "metadata": {},
     "output_type": "execute_result"
    }
   ],
   "source": [
    "x.value"
   ]
  },
  {
   "cell_type": "code",
   "execution_count": 206,
   "id": "810fbde4",
   "metadata": {},
   "outputs": [
    {
     "name": "stdout",
     "output_type": "stream",
     "text": [
      "[0.25 0.5  0.25]\n",
      "[0.25 0.5  0.25]\n"
     ]
    }
   ],
   "source": [
    "# Define some system parameters for the model\n",
    "u = 2\n",
    "p = 0.5\n",
    "\n",
    "N = 2\n",
    "n = 2\n",
    "K = 7\n",
    "S0 = 4\n",
    "r = 0.25\n",
    "\n",
    "risk_p = (1 + r - 1/u)/(u-1/u)\n",
    "\n",
    "# Compute real probs\n",
    "real_probs = (1-p) ** (np.arange(n, -1, -1)) * (p) ** (np.arange(0, n + 1, 1)) *  binom(n, np.arange(n+1))\n",
    "# real_probs = np.array([1/9, 4/9, 4/9])\n",
    "print(real_probs)\n",
    "\n",
    "risk_probs = (risk_p) ** (np.arange(n, -1, -1)) * (1-risk_p) ** (np.arange(0, n + 1, 1)) *  binom(n, np.arange(n+1))\n",
    "print(risk_probs)\n",
    "Z = risk_probs/real_probs\n",
    "\n",
    "zeta = Z/(1+r)**(2)\n",
    "pn_zeta = real_probs*zeta\n",
    "Sn = calculate_Sn(S0, u, n)"
   ]
  },
  {
   "cell_type": "code",
   "execution_count": 207,
   "id": "d6ea55d0",
   "metadata": {},
   "outputs": [
    {
     "data": {
      "text/plain": [
       "1.8325814628517012"
      ]
     },
     "execution_count": 207,
     "metadata": {},
     "output_type": "execute_result"
    }
   ],
   "source": [
    "x = cp.Variable(n+1)\n",
    "prob = cp.Problem(cp.Maximize(real_probs@cp.log(x)), [pn_zeta@x==X0])\n",
    "prob.solve()"
   ]
  },
  {
   "cell_type": "code",
   "execution_count": 208,
   "id": "43e9e9cb",
   "metadata": {},
   "outputs": [
    {
     "data": {
      "text/plain": [
       "array([6.25001158, 6.24998841, 6.25001158])"
      ]
     },
     "execution_count": 208,
     "metadata": {},
     "output_type": "execute_result"
    }
   ],
   "source": [
    "x.value"
   ]
  },
  {
   "cell_type": "code",
   "execution_count": 157,
   "id": "3e267d30",
   "metadata": {},
   "outputs": [
    {
     "data": {
      "text/plain": [
       "array([0.46065971, 3.68527804, 7.37055299])"
      ]
     },
     "execution_count": 157,
     "metadata": {},
     "output_type": "execute_result"
    }
   ],
   "source": []
  },
  {
   "cell_type": "markdown",
   "id": "324e0313",
   "metadata": {},
   "source": [
    "# 2/"
   ]
  },
  {
   "cell_type": "code",
   "execution_count": 15,
   "id": "b3ba151a",
   "metadata": {},
   "outputs": [
    {
     "ename": "ValueError",
     "evalue": "invalid number of arguments",
     "output_type": "error",
     "traceback": [
      "\u001b[0;31m---------------------------------------------------------------------------\u001b[0m",
      "\u001b[0;31mValueError\u001b[0m                                Traceback (most recent call last)",
      "\u001b[0;32m/var/folders/k6/79gt8yds1l3gsjyykhx8fr4r0000gn/T/ipykernel_77799/3386542397.py\u001b[0m in \u001b[0;36m<module>\u001b[0;34m\u001b[0m\n\u001b[0;32m----> 1\u001b[0;31m \u001b[0mbinom\u001b[0m\u001b[0;34m(\u001b[0m\u001b[0mn\u001b[0m\u001b[0;34m)\u001b[0m\u001b[0;34m\u001b[0m\u001b[0;34m\u001b[0m\u001b[0m\n\u001b[0m",
      "\u001b[0;31mValueError\u001b[0m: invalid number of arguments"
     ]
    }
   ],
   "source": [
    "binom(n, np.arange9)"
   ]
  },
  {
   "cell_type": "code",
   "execution_count": null,
   "id": "a2b4106a",
   "metadata": {},
   "outputs": [],
   "source": []
  }
 ],
 "metadata": {
  "kernelspec": {
   "display_name": "Python 3 (ipykernel)",
   "language": "python",
   "name": "python3"
  },
  "language_info": {
   "codemirror_mode": {
    "name": "ipython",
    "version": 3
   },
   "file_extension": ".py",
   "mimetype": "text/x-python",
   "name": "python",
   "nbconvert_exporter": "python",
   "pygments_lexer": "ipython3",
   "version": "3.9.7"
  }
 },
 "nbformat": 4,
 "nbformat_minor": 5
}
