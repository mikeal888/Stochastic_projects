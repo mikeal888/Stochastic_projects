{
 "cells": [
  {
   "cell_type": "code",
   "execution_count": 12,
   "id": "ed8b7b66",
   "metadata": {},
   "outputs": [],
   "source": [
    "import numpy as np\n",
    "from functools import wraps\n",
    "from time import time\n",
    "from scipy.special import binom\n",
    "import matplotlib.pyplot as plt\n",
    "\n",
    "# import jtplot submodule from jupyterthemes\n",
    "from jupyterthemes import jtplot\n",
    "jtplot.style()\n",
    "\n",
    "def timing(f):\n",
    "    # Create timing wrapper\n",
    "    @wraps(f)\n",
    "    def wrap(*args, **kw):\n",
    "        ts = time()\n",
    "        result = f(*args, **kw)\n",
    "        te = time()\n",
    "        print('func:%r args:[%r, %r] took: %2.4f sec'% (f.__name__, args, kw, te-ts))\n",
    "        return result\n",
    "    return wrap"
   ]
  },
  {
   "cell_type": "code",
   "execution_count": 342,
   "id": "13dc5d28",
   "metadata": {},
   "outputs": [],
   "source": [
    "\n",
    "class binomial_tree_european:\n",
    "\n",
    "    '''\n",
    "    Binomial asset tree model with different options.\n",
    "\n",
    "    We need to know several things:\n",
    "    u, d, S0, T, N, r, K, option\n",
    "    '''\n",
    "    def __init__(self, params):\n",
    "\n",
    "        self.__dict__.update(params)    # load model parameters\n",
    "        self.dt = self.T/self.N         # Compute time step\n",
    "        self.disc = (1+self.r)           # Compute discount rate\n",
    "        self.p = (self.disc - self.d) / (self.u - self.d)  # Compute risk neutral probability\n",
    "        self.delta0 = self.calculate_delta0()\n",
    "        self.V0 = self.calculate_V0()\n",
    "        self.X0 = self.calculate_V0()\n",
    "\n",
    "    def calculate_Sn(self, n):\n",
    "        # Compute potential price outcomes\n",
    "        return self.S0 * self.d ** (np.arange(n, -1, -1)) * self.u ** (np.arange(0, n + 1, 1))\n",
    "\n",
    "    def VN(self):\n",
    "        # Compute asset prices at maturity T = N\n",
    "        if self.option == 'put':\n",
    "            return np.maximum(self.K - self.calculate_Sn(self.N), np.zeros(self.N+1))\n",
    "        else:\n",
    "             return np.maximum(self.calculate_Sn(self.N)-self.K, np.zeros(self.N+1))\n",
    "\n",
    "    def calculate_V0(self):\n",
    "        # Compute initial asset price through tree at time n\n",
    "        C = self.VN()\n",
    "        for i in np.arange(self.N, 0, -1):\n",
    "          C =  (self.p * C[1:i+1] + (1-self.p) * C[0:i])/self.disc\n",
    "\n",
    "        return C[0]\n",
    "\n",
    "    def calculate_Vn(self, n):\n",
    "        # Compute initial asset price through tree at time n\n",
    "        C = self.VN()\n",
    "        for i in np.arange(self.N, n, -1):\n",
    "            C = (self.p * C[1:i + 1] + (1 - self.p) * C[0:i])/self.disc\n",
    "\n",
    "        return C\n",
    "\n",
    "    def calculate_delta0(self):\n",
    "        # Compute risk neutal share holding\n",
    "        self.d0 = -np.diff(self.calculate_Vn(1))[0]/((self.u-self.d)*self.S0)\n",
    "        return self.d0\n",
    "\n",
    "    def calculate_deltan(self, n):\n",
    "        # Calculate\n",
    "        return -np.diff(self.calculate_Vn(n+1))/np.diff(self.calculate_Sn(n+1))\n",
    "\n",
    "    def calculate_X0(self):\n",
    "        # Calculate X0\n",
    "        return sum(self.disc * self.calculate_Vn(1) * np.array([1-self.p, self.p]))\n",
    "    \n",
    "    def calculateXN(self):\n",
    "        # Compute XN\n",
    "        \n",
    "        pass"
   ]
  },
  {
   "cell_type": "code",
   "execution_count": 343,
   "id": "1b183469",
   "metadata": {},
   "outputs": [
    {
     "name": "stdout",
     "output_type": "stream",
     "text": [
      "V0 =  0.864  and discounted average o Vn =  3.296\n",
      "S0 =  4  and discounted average o Vn =  15.259\n"
     ]
    }
   ],
   "source": [
    "\n",
    "u = 2\n",
    "\n",
    "params = {'S0': 4,\n",
    "            'r': 0.25,\n",
    "            'u': u,\n",
    "            'd': 1/u,\n",
    "            'K': 5,\n",
    "            'N': 3,\n",
    "            'T': 1,\n",
    "            'option': 'put'}\n",
    "\n",
    "# create random model\n",
    "m = binomial_tree_european(params)\n",
    "\n",
    "n = 3\n",
    "Sn = m.calculate_Sn(n)\n",
    "Vn = m.calculate_Vn(n)\n",
    "probs = (1-m.p)**(np.arange(n, -1, -1)) * (m.p)**(np.arange(0, n+1, 1))\n",
    "bs = binom(n, np.arange(n+1))\n",
    "\n",
    "# C\n",
    "Sbar =  sum(bs * probs * Sn) * m.disc ** n\n",
    "Vbar = sum(bs * probs * Vn) * m.disc ** n\n",
    "\n",
    "print(\"V0 = \", np.round(m.V0, 3), \" and discounted average o Vn = \", np.round(Vbar, 3))\n",
    "print(\"S0 = \", m.S0, \" and discounted average o Vn = \", np.round(Sbar, 3))"
   ]
  },
  {
   "cell_type": "markdown",
   "id": "ea3935b5",
   "metadata": {},
   "source": [
    "We now want compute the wealth growth, but we must be wary that we always have n+1 ratios, and n+2 underlying prices\n",
    "\n",
    "Let n = 3, then the 5 elements of S correspond to HHHH HHHT HHTT HTTT TTTT, the stocks ratios on the other hand go as HHH HHT HTT TTT.\n",
    "We need to construct a tree "
   ]
  },
  {
   "cell_type": "code",
   "execution_count": 344,
   "id": "3dad5132",
   "metadata": {},
   "outputs": [
    {
     "name": "stdout",
     "output_type": "stream",
     "text": [
      "[0.024 3.104]\n",
      "[-0.176  2.304]\n"
     ]
    }
   ],
   "source": [
    "X1 = m.delta0 * m.calculate_Sn(1) + m.disc * (m.X0 - m.delta0 * m.S0)\n",
    "\n",
    "n = 1\n",
    "S2 = m.calculate_Sn(n+1)\n",
    "S1 = m.calculate_Sn(n)\n",
    "d1 = m.calculate_deltan(n)\n",
    "\n",
    "for i in range(n+1):\n",
    "    print(d1[i] * S2[i:i+2] + (m.disc)**(-1) * (X1 - S1*d1))\n",
    "    "
   ]
  },
  {
   "cell_type": "code",
   "execution_count": 345,
   "id": "7d28cef7",
   "metadata": {},
   "outputs": [
    {
     "data": {
      "text/plain": [
       "array([1.68, 0.48])"
      ]
     },
     "execution_count": 345,
     "metadata": {},
     "output_type": "execute_result"
    }
   ],
   "source": [
    "m.calculate_Vn(1)"
   ]
  },
  {
   "cell_type": "code",
   "execution_count": 346,
   "id": "880059b3",
   "metadata": {},
   "outputs": [
    {
     "data": {
      "text/plain": [
       "array([0.48, 1.68])"
      ]
     },
     "execution_count": 346,
     "metadata": {},
     "output_type": "execute_result"
    }
   ],
   "source": [
    "X1"
   ]
  },
  {
   "cell_type": "code",
   "execution_count": 339,
   "id": "9dd5fc85",
   "metadata": {},
   "outputs": [
    {
     "data": {
      "text/plain": [
       "array([1.68, 0.48])"
      ]
     },
     "execution_count": 339,
     "metadata": {},
     "output_type": "execute_result"
    }
   ],
   "source": [
    "m.calculate_Vn(1)"
   ]
  },
  {
   "cell_type": "code",
   "execution_count": 330,
   "id": "bc00f4ec",
   "metadata": {},
   "outputs": [
    {
     "data": {
      "text/plain": [
       "array([ 0.5,  2. ,  8. , 32. ])"
      ]
     },
     "execution_count": 330,
     "metadata": {},
     "output_type": "execute_result"
    }
   ],
   "source": [
    " m.calculate_Sn(3)"
   ]
  },
  {
   "cell_type": "code",
   "execution_count": 331,
   "id": "37932516",
   "metadata": {},
   "outputs": [
    {
     "name": "stdout",
     "output_type": "stream",
     "text": [
      "[4.5 3.  0.  0. ]\n",
      "[4.6875 1.875  0.    ]\n",
      "[4.1015625 1.171875 ]\n",
      "[3.29589844]\n"
     ]
    }
   ],
   "source": [
    "C = m.VN()\n",
    "print(C)\n",
    "for i in np.arange(m.N, 0, -1):\n",
    "    C = ((m.p)* C[1:i+1] + (1-m.p) * C[0:i])\n",
    "    print(C)"
   ]
  },
  {
   "cell_type": "code",
   "execution_count": 322,
   "id": "841e007b",
   "metadata": {},
   "outputs": [
    {
     "data": {
      "text/plain": [
       "array([1.359872, 2.588672])"
      ]
     },
     "execution_count": 322,
     "metadata": {},
     "output_type": "execute_result"
    }
   ],
   "source": [
    "X1"
   ]
  },
  {
   "cell_type": "code",
   "execution_count": 323,
   "id": "1d25a6ad",
   "metadata": {},
   "outputs": [
    {
     "data": {
      "text/plain": [
       "1.4745599999999999"
      ]
     },
     "execution_count": 323,
     "metadata": {},
     "output_type": "execute_result"
    }
   ],
   "source": [
    "m.p * m.calculate_Vn(1)[0] + (1-m.p) * m.calculate_Vn(1)[1]"
   ]
  },
  {
   "cell_type": "code",
   "execution_count": 304,
   "id": "fd3dcdb7",
   "metadata": {},
   "outputs": [
    {
     "data": {
      "text/plain": [
       "1.1550244863830923"
      ]
     },
     "execution_count": 304,
     "metadata": {},
     "output_type": "execute_result"
    }
   ],
   "source": [
    "(X1[0]*m.p + X1[1]*(1-m.p))/m.disc"
   ]
  },
  {
   "cell_type": "code",
   "execution_count": 297,
   "id": "66a3a007",
   "metadata": {},
   "outputs": [
    {
     "data": {
      "text/plain": [
       "array([0.38376195, 1.52552101])"
      ]
     },
     "execution_count": 297,
     "metadata": {},
     "output_type": "execute_result"
    }
   ],
   "source": [
    "X1"
   ]
  },
  {
   "cell_type": "code",
   "execution_count": 129,
   "id": "028806b1",
   "metadata": {},
   "outputs": [],
   "source": [
    "\n"
   ]
  },
  {
   "cell_type": "markdown",
   "id": "9c7ca50e",
   "metadata": {},
   "source": [
    "## We have computed all the values on average, but let's compute it for a trajectory"
   ]
  },
  {
   "cell_type": "code",
   "execution_count": null,
   "id": "cca49f69",
   "metadata": {},
   "outputs": [],
   "source": []
  }
 ],
 "metadata": {
  "kernelspec": {
   "display_name": "Python 3 (ipykernel)",
   "language": "python",
   "name": "python3"
  },
  "language_info": {
   "codemirror_mode": {
    "name": "ipython",
    "version": 3
   },
   "file_extension": ".py",
   "mimetype": "text/x-python",
   "name": "python",
   "nbconvert_exporter": "python",
   "pygments_lexer": "ipython3",
   "version": "3.9.7"
  }
 },
 "nbformat": 4,
 "nbformat_minor": 5
}
