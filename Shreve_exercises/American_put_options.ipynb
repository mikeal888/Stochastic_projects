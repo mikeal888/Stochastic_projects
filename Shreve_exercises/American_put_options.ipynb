{
 "cells": [
  {
   "attachments": {},
   "cell_type": "markdown",
   "metadata": {},
   "source": [
    "# Implement American Put options\n",
    "\n",
    "In this notebook, we will simple implement American put options using numpy"
   ]
  },
  {
   "cell_type": "code",
   "execution_count": 1,
   "metadata": {},
   "outputs": [],
   "source": [
    "import numpy as np"
   ]
  },
  {
   "cell_type": "code",
   "execution_count": 111,
   "metadata": {},
   "outputs": [],
   "source": [
    "# Deifne class for American put option\n",
    "class BinomialTreeAmerican:\n",
    "    \"\"\"Binomial tree for American put option\"\"\"\n",
    "\n",
    "    def __init__(self, params):\n",
    "        self.__dict__.update(params)    # load model parameters\n",
    "        self.disc = 1 + self.r          # Compute discount rate\n",
    "        self.risk_probs = (self.disc - self.d) / (self.u - self.d)   \n",
    "        self.N = self.N\n",
    "\n",
    "    def calculate_Sn(self, n):\n",
    "        # Compute potential price outcomes\n",
    "        return (\n",
    "            self.S0\n",
    "            * self.d ** (np.arange(n, -1, -1))\n",
    "            * self.u ** (np.arange(0, n + 1, 1))\n",
    "        )\n",
    "\n",
    "    def calculate_VN(self):\n",
    "        # Compute potential price outcomes\n",
    "        return np.maximum(self.K - self.calculate_Sn(self.N), 0)\n",
    "    \n",
    "    def calculate_Vn(self, n):\n",
    "        # calculate Vn at time n\n",
    "        Vn = self.calculate_VN()\n",
    "        \n",
    "        for i in np.arange(self.N, n, -1):\n",
    "            # Compute Vn for each step\n",
    "            Vn = ((self.risk_probs) * Vn[1 : i + 1] + (1 - self.risk_probs) * Vn[0:i]) / self.disc\n",
    "            Vn = np.maximum(Vn, self.K - self.calculate_Sn(i-1))\n",
    "\n",
    "        return Vn\n",
    "\n",
    "\n"
   ]
  },
  {
   "cell_type": "code",
   "execution_count": 113,
   "metadata": {},
   "outputs": [
    {
     "name": "stdout",
     "output_type": "stream",
     "text": [
      "2 [4. 1. 0.]\n",
      "[3.  0.4]\n",
      "1 [3.  0.4]\n",
      "[1.36]\n"
     ]
    },
    {
     "data": {
      "text/plain": [
       "array([1.36])"
      ]
     },
     "execution_count": 113,
     "metadata": {},
     "output_type": "execute_result"
    }
   ],
   "source": [
    "# Define parameters\n",
    "u = 2\n",
    "d = 1 / u\n",
    "r = 0.25\n",
    "N= 2\n",
    "S0 = 4\n",
    "\n",
    "# Define risk probabilities\n",
    "risk_p = (1 + r - d) / (u - d)\n",
    "\n",
    "\n",
    "params = {\n",
    "    \"u\": u,\n",
    "    \"d\": d,\n",
    "    \"S0\": S0,\n",
    "    \"N\": N, \n",
    "    \"r\": r,\n",
    "    \"K\": 5,\n",
    "}\n",
    "\n",
    "# Create model\n",
    "model = BinomialTreeAmerican(params=params)\n",
    "\n",
    "model.calculate_Vn(0)\n",
    "\n"
   ]
  },
  {
   "cell_type": "code",
   "execution_count": 100,
   "metadata": {},
   "outputs": [
    {
     "data": {
      "text/plain": [
       "array([2, 1])"
      ]
     },
     "execution_count": 100,
     "metadata": {},
     "output_type": "execute_result"
    }
   ],
   "source": [
    "np.arange(N, 0, -1)"
   ]
  },
  {
   "cell_type": "code",
   "execution_count": null,
   "metadata": {},
   "outputs": [],
   "source": []
  }
 ],
 "metadata": {
  "kernelspec": {
   "display_name": "base",
   "language": "python",
   "name": "python3"
  },
  "language_info": {
   "codemirror_mode": {
    "name": "ipython",
    "version": 3
   },
   "file_extension": ".py",
   "mimetype": "text/x-python",
   "name": "python",
   "nbconvert_exporter": "python",
   "pygments_lexer": "ipython3",
   "version": "3.10.9"
  },
  "orig_nbformat": 4,
  "vscode": {
   "interpreter": {
    "hash": "033e9a9ec91bcc4e13847a3a49460902be0d27ef42562e236d63618c6aca313e"
   }
  }
 },
 "nbformat": 4,
 "nbformat_minor": 2
}
